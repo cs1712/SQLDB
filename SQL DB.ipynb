{
 "cells": [
  {
   "cell_type": "markdown",
   "metadata": {},
   "source": [
    "# SQL DB"
   ]
  },
  {
   "cell_type": "markdown",
   "metadata": {},
   "source": [
    "Practice dataset csv file transformed into a sql database"
   ]
  },
  {
   "cell_type": "code",
   "execution_count": 1,
   "metadata": {
    "collapsed": true
   },
   "outputs": [],
   "source": [
    "#imports\n",
    "import sqlite3\n",
    "import numpy as np\n",
    "import pandas as pd \n",
    "import sqlalchemy\n",
    "from sqlalchemy import create_engine"
   ]
  },
  {
   "cell_type": "code",
   "execution_count": 2,
   "metadata": {
    "collapsed": true
   },
   "outputs": [],
   "source": [
    "#Create a database and connect with sqlite3\n",
    "\n",
    "DBPATH = 'results.db'\n",
    "conn = sqlite3.connect(DBPATH)\n",
    "cur = conn.cursor()"
   ]
  },
  {
   "cell_type": "code",
   "execution_count": 3,
   "metadata": {
    "collapsed": false
   },
   "outputs": [
    {
     "name": "stdout",
     "output_type": "stream",
     "text": [
      "<class 'pandas.core.frame.DataFrame'>\n",
      "RangeIndex: 746 entries, 0 to 745\n",
      "Columns: 129 entries, Unnamed: 0 to Postn Lang 1 Rd\n",
      "dtypes: float64(4), object(125)\n",
      "memory usage: 751.9+ KB\n"
     ]
    }
   ],
   "source": [
    "#Read csv file into a DataFrame\n",
    "csvfile ='results.csv'\n",
    "resdf = pd.read_csv(csvfile)\n",
    "\n",
    "#reviewing dataframe and loaded data\n",
    "resdf.info()"
   ]
  },
  {
   "cell_type": "code",
   "execution_count": 9,
   "metadata": {
    "collapsed": false
   },
   "outputs": [
    {
     "data": {
      "text/html": [
       "<div>\n",
       "<table border=\"1\" class=\"dataframe\">\n",
       "  <thead>\n",
       "    <tr style=\"text-align: right;\">\n",
       "      <th></th>\n",
       "      <th>ID-ORDER</th>\n",
       "      <th>datetime</th>\n",
       "      <th>Q1a_lang1</th>\n",
       "      <th>Q2-1_Meetings_Freq</th>\n",
       "      <th>Q2-1_Meetings_Import</th>\n",
       "      <th>Q2-1_Meetings_Eng</th>\n",
       "      <th>Q2-1_Meetings_LES</th>\n",
       "      <th>Q2-2_PreparedStats_Freq</th>\n",
       "      <th>Q2-2_PreparedStats_Import</th>\n",
       "      <th>Q2-2_PreparedStats_Eng</th>\n",
       "      <th>...</th>\n",
       "      <th>Emp Grade</th>\n",
       "      <th>EmpGradeRank</th>\n",
       "      <th>Lang Cd</th>\n",
       "      <th>Emp Speak Proficiency 1</th>\n",
       "      <th>Speak Proficiency Plus</th>\n",
       "      <th>Emp Read Proficiency 1</th>\n",
       "      <th>Read Proficiency Plus</th>\n",
       "      <th>Postn Lang 1 Sp/Rd</th>\n",
       "      <th>Postn Lang 1 Sp</th>\n",
       "      <th>Postn Lang 1 Rd</th>\n",
       "    </tr>\n",
       "  </thead>\n",
       "  <tbody>\n",
       "    <tr>\n",
       "      <th>0</th>\n",
       "      <td>NA00011</td>\n",
       "      <td>2017-09-05 21:53:00</td>\n",
       "      <td>Chinese (Mandarin)</td>\n",
       "      <td>Weekly</td>\n",
       "      <td>Important</td>\n",
       "      <td>yes</td>\n",
       "      <td>no</td>\n",
       "      <td>Never - not applicable</td>\n",
       "      <td>Not important</td>\n",
       "      <td>yes</td>\n",
       "      <td>...</td>\n",
       "      <td>01</td>\n",
       "      <td>SENIOR</td>\n",
       "      <td>CM</td>\n",
       "      <td>3.0</td>\n",
       "      <td>NaN</td>\n",
       "      <td>3.0</td>\n",
       "      <td>NaN</td>\n",
       "      <td>CM</td>\n",
       "      <td>3</td>\n",
       "      <td>3</td>\n",
       "    </tr>\n",
       "    <tr>\n",
       "      <th>1</th>\n",
       "      <td>NA00012</td>\n",
       "      <td>2017-09-05 15:29:00</td>\n",
       "      <td>Romanian</td>\n",
       "      <td>Weekly</td>\n",
       "      <td>Important</td>\n",
       "      <td>yes</td>\n",
       "      <td>yes</td>\n",
       "      <td>Every few months</td>\n",
       "      <td>Important</td>\n",
       "      <td>yes</td>\n",
       "      <td>...</td>\n",
       "      <td>04</td>\n",
       "      <td>ENTRY</td>\n",
       "      <td>RQ</td>\n",
       "      <td>3.0</td>\n",
       "      <td>NaN</td>\n",
       "      <td>3.0</td>\n",
       "      <td>NaN</td>\n",
       "      <td>RQ</td>\n",
       "      <td>3</td>\n",
       "      <td>3</td>\n",
       "    </tr>\n",
       "    <tr>\n",
       "      <th>2</th>\n",
       "      <td>NA00013</td>\n",
       "      <td>2017-09-05 10:01:00</td>\n",
       "      <td>Spanish</td>\n",
       "      <td>Monthly</td>\n",
       "      <td>Very important</td>\n",
       "      <td>NaN</td>\n",
       "      <td>yes</td>\n",
       "      <td>Every few months</td>\n",
       "      <td>Slightly important</td>\n",
       "      <td>no</td>\n",
       "      <td>...</td>\n",
       "      <td>03</td>\n",
       "      <td>MID</td>\n",
       "      <td>QB</td>\n",
       "      <td>2.0</td>\n",
       "      <td>NaN</td>\n",
       "      <td>2.0</td>\n",
       "      <td>NaN</td>\n",
       "      <td>QB</td>\n",
       "      <td>2</td>\n",
       "      <td>2</td>\n",
       "    </tr>\n",
       "  </tbody>\n",
       "</table>\n",
       "<p>3 rows × 128 columns</p>\n",
       "</div>"
      ],
      "text/plain": [
       "  ID-ORDER             datetime           Q1a_lang1 Q2-1_Meetings_Freq  \\\n",
       "0  NA00011  2017-09-05 21:53:00  Chinese (Mandarin)             Weekly   \n",
       "1  NA00012  2017-09-05 15:29:00            Romanian             Weekly   \n",
       "2  NA00013  2017-09-05 10:01:00             Spanish            Monthly   \n",
       "\n",
       "  Q2-1_Meetings_Import Q2-1_Meetings_Eng Q2-1_Meetings_LES  \\\n",
       "0            Important               yes                no   \n",
       "1            Important               yes               yes   \n",
       "2       Very important               NaN               yes   \n",
       "\n",
       "   Q2-2_PreparedStats_Freq Q2-2_PreparedStats_Import Q2-2_PreparedStats_Eng  \\\n",
       "0   Never - not applicable             Not important                    yes   \n",
       "1         Every few months                 Important                    yes   \n",
       "2         Every few months        Slightly important                     no   \n",
       "\n",
       "        ...       Emp Grade EmpGradeRank Lang Cd Emp Speak Proficiency 1  \\\n",
       "0       ...              01       SENIOR      CM                     3.0   \n",
       "1       ...              04        ENTRY      RQ                     3.0   \n",
       "2       ...              03          MID      QB                     2.0   \n",
       "\n",
       "  Speak Proficiency Plus Emp Read Proficiency 1 Read Proficiency Plus  \\\n",
       "0                    NaN                    3.0                   NaN   \n",
       "1                    NaN                    3.0                   NaN   \n",
       "2                    NaN                    2.0                   NaN   \n",
       "\n",
       "  Postn Lang 1 Sp/Rd Postn Lang 1 Sp Postn Lang 1 Rd  \n",
       "0                 CM               3               3  \n",
       "1                 RQ               3               3  \n",
       "2                 QB               2               2  \n",
       "\n",
       "[3 rows x 128 columns]"
      ]
     },
     "execution_count": 9,
     "metadata": {},
     "output_type": "execute_result"
    }
   ],
   "source": [
    "#Display the dataframe to view the output\n",
    "resdf=resdf.drop(['Unnamed: 0'], axis=1)\n",
    "resdf.head(3)\n"
   ]
  },
  {
   "cell_type": "code",
   "execution_count": null,
   "metadata": {
    "collapsed": false
   },
   "outputs": [],
   "source": [
    "#Converts df slice to demographics sql table\n",
    "resdf.iloc[:,114:129].to_sql('demotabl',conn)"
   ]
  },
  {
   "cell_type": "code",
   "execution_count": 22,
   "metadata": {
    "collapsed": false
   },
   "outputs": [
    {
     "data": {
      "text/plain": [
       "('SENIOR', 92)"
      ]
     },
     "execution_count": 22,
     "metadata": {},
     "output_type": "execute_result"
    }
   ],
   "source": [
    "#Using cursor to connect and query the newly created table\n",
    "cur.execute('SELECT EmpGradeRank, count(EmpGradeRank) FROM demotabl WHERE EmpGradeRank=\"SENIOR\";')\n",
    "cur.fetchone()"
   ]
  },
  {
   "cell_type": "code",
   "execution_count": null,
   "metadata": {
    "collapsed": true
   },
   "outputs": [],
   "source": [
    "#Creating slice from the df for the second table\n",
    "survey = resdf.iloc[:,:113]\n",
    "survey.insert(2,'LangCd',resdf.iloc[:,120])\n",
    "survey.to_sql('surveytabl',conn)"
   ]
  },
  {
   "cell_type": "code",
   "execution_count": 23,
   "metadata": {
    "collapsed": false
   },
   "outputs": [
    {
     "data": {
      "text/plain": [
       "[('QB', 225)]"
      ]
     },
     "execution_count": 23,
     "metadata": {},
     "output_type": "execute_result"
    }
   ],
   "source": [
    "#Select lang field and counting returned values from the table\n",
    "cur.execute('SELECT LangCd ,count(*) FROM surveytabl WHERE LangCd=\"QB\";')\n",
    "cur.fetchall()"
   ]
  },
  {
   "cell_type": "code",
   "execution_count": 24,
   "metadata": {
    "collapsed": false
   },
   "outputs": [
    {
     "data": {
      "text/plain": [
       "[(327,)]"
      ]
     },
     "execution_count": 24,
     "metadata": {},
     "output_type": "execute_result"
    }
   ],
   "source": [
    "#Select all the non-null comment fields from the table\n",
    "cur.execute('SELECT count(Comments_Ratings) FROM surveytabl WHERE Comments_Ratings is not null;')\n",
    "cur.fetchall()"
   ]
  },
  {
   "cell_type": "code",
   "execution_count": 25,
   "metadata": {
    "collapsed": false
   },
   "outputs": [
    {
     "name": "stdout",
     "output_type": "stream",
     "text": [
      "[('demotable',), ('demotabl',), ('survey',), ('surveytabl',)]\n"
     ]
    }
   ],
   "source": [
    "#Check the number of tables in the database\n",
    "cur.execute(\"SELECT name FROM sqlite_master WHERE type='table';\")\n",
    "print(cur.fetchall())"
   ]
  },
  {
   "cell_type": "code",
   "execution_count": 26,
   "metadata": {
    "collapsed": false
   },
   "outputs": [
    {
     "data": {
      "text/html": [
       "<div>\n",
       "<table border=\"1\" class=\"dataframe\">\n",
       "  <thead>\n",
       "    <tr style=\"text-align: right;\">\n",
       "      <th></th>\n",
       "      <th>index</th>\n",
       "      <th>PostnRelabel</th>\n",
       "      <th>Bureau</th>\n",
       "      <th>Org Name</th>\n",
       "      <th>Country</th>\n",
       "      <th>Emp Grade</th>\n",
       "      <th>EmpGradeRank</th>\n",
       "      <th>Lang Cd</th>\n",
       "      <th>Emp Speak Proficiency 1</th>\n",
       "      <th>Speak Proficiency Plus</th>\n",
       "      <th>Emp Read Proficiency 1</th>\n",
       "      <th>Read Proficiency Plus</th>\n",
       "      <th>Postn Lang 1 Sp/Rd</th>\n",
       "      <th>Postn Lang 1 Sp</th>\n",
       "      <th>Postn Lang 1 Rd</th>\n",
       "    </tr>\n",
       "  </thead>\n",
       "  <tbody>\n",
       "    <tr>\n",
       "      <th>0</th>\n",
       "      <td>0</td>\n",
       "      <td>Operations</td>\n",
       "      <td>EAP</td>\n",
       "      <td>BEIJING</td>\n",
       "      <td>PEOPLES REP OF CHINA</td>\n",
       "      <td>01</td>\n",
       "      <td>SENIOR</td>\n",
       "      <td>CM</td>\n",
       "      <td>3.0</td>\n",
       "      <td>None</td>\n",
       "      <td>3.0</td>\n",
       "      <td>None</td>\n",
       "      <td>CM</td>\n",
       "      <td>3</td>\n",
       "      <td>3</td>\n",
       "    </tr>\n",
       "    <tr>\n",
       "      <th>1</th>\n",
       "      <td>1</td>\n",
       "      <td>Customer Service</td>\n",
       "      <td>EUR</td>\n",
       "      <td>BUCHAREST</td>\n",
       "      <td>ROMANIA</td>\n",
       "      <td>04</td>\n",
       "      <td>ENTRY</td>\n",
       "      <td>RQ</td>\n",
       "      <td>3.0</td>\n",
       "      <td>None</td>\n",
       "      <td>3.0</td>\n",
       "      <td>None</td>\n",
       "      <td>RQ</td>\n",
       "      <td>3</td>\n",
       "      <td>3</td>\n",
       "    </tr>\n",
       "    <tr>\n",
       "      <th>2</th>\n",
       "      <td>2</td>\n",
       "      <td>Security</td>\n",
       "      <td>WHA</td>\n",
       "      <td>PANAMA</td>\n",
       "      <td>PANAMA</td>\n",
       "      <td>03</td>\n",
       "      <td>MID</td>\n",
       "      <td>QB</td>\n",
       "      <td>2.0</td>\n",
       "      <td>None</td>\n",
       "      <td>2.0</td>\n",
       "      <td>None</td>\n",
       "      <td>QB</td>\n",
       "      <td>2</td>\n",
       "      <td>2</td>\n",
       "    </tr>\n",
       "    <tr>\n",
       "      <th>3</th>\n",
       "      <td>3</td>\n",
       "      <td>Manager</td>\n",
       "      <td>EUR</td>\n",
       "      <td>PARIS</td>\n",
       "      <td>FRANCE</td>\n",
       "      <td>05</td>\n",
       "      <td>ENTRY</td>\n",
       "      <td>FR</td>\n",
       "      <td>2.0</td>\n",
       "      <td>None</td>\n",
       "      <td>2.0</td>\n",
       "      <td>None</td>\n",
       "      <td>FR</td>\n",
       "      <td>2</td>\n",
       "      <td>2</td>\n",
       "    </tr>\n",
       "    <tr>\n",
       "      <th>4</th>\n",
       "      <td>4</td>\n",
       "      <td>Customer Service</td>\n",
       "      <td>EUR</td>\n",
       "      <td>ISTANBUL</td>\n",
       "      <td>TURKEY</td>\n",
       "      <td>03</td>\n",
       "      <td>MID</td>\n",
       "      <td>TU</td>\n",
       "      <td>3.0</td>\n",
       "      <td>None</td>\n",
       "      <td>3.0</td>\n",
       "      <td>None</td>\n",
       "      <td>TU</td>\n",
       "      <td>3</td>\n",
       "      <td>3</td>\n",
       "    </tr>\n",
       "  </tbody>\n",
       "</table>\n",
       "</div>"
      ],
      "text/plain": [
       "   index      PostnRelabel Bureau   Org Name               Country Emp Grade  \\\n",
       "0      0        Operations    EAP    BEIJING  PEOPLES REP OF CHINA        01   \n",
       "1      1  Customer Service    EUR  BUCHAREST               ROMANIA        04   \n",
       "2      2          Security    WHA     PANAMA                PANAMA        03   \n",
       "3      3           Manager    EUR      PARIS                FRANCE        05   \n",
       "4      4  Customer Service    EUR   ISTANBUL                TURKEY        03   \n",
       "\n",
       "  EmpGradeRank Lang Cd  Emp Speak Proficiency 1 Speak Proficiency Plus  \\\n",
       "0       SENIOR      CM                      3.0                   None   \n",
       "1        ENTRY      RQ                      3.0                   None   \n",
       "2          MID      QB                      2.0                   None   \n",
       "3        ENTRY      FR                      2.0                   None   \n",
       "4          MID      TU                      3.0                   None   \n",
       "\n",
       "   Emp Read Proficiency 1 Read Proficiency Plus Postn Lang 1 Sp/Rd  \\\n",
       "0                     3.0                  None                 CM   \n",
       "1                     3.0                  None                 RQ   \n",
       "2                     2.0                  None                 QB   \n",
       "3                     2.0                  None                 FR   \n",
       "4                     3.0                  None                 TU   \n",
       "\n",
       "  Postn Lang 1 Sp Postn Lang 1 Rd  \n",
       "0               3               3  \n",
       "1               3               3  \n",
       "2               2               2  \n",
       "3               2               2  \n",
       "4               3               3  "
      ]
     },
     "execution_count": 26,
     "metadata": {},
     "output_type": "execute_result"
    }
   ],
   "source": [
    "#Alternate method for reading sql with pandas\n",
    "engine = create_engine('sqlite:///results.db')\n",
    "pd.read_sql_query('SELECT * FROM demotabl LIMIT 5;',engine)"
   ]
  },
  {
   "cell_type": "code",
   "execution_count": 21,
   "metadata": {
    "collapsed": true
   },
   "outputs": [],
   "source": [
    "#Return to excel; you can save the newly created tables in a new excel file in separate tabs \n",
    "writer= pd.ExcelWriter('results.xlsx')\n",
    "resdf.iloc[:,114:129].to_excel(writer,'Demo')\n",
    "survey.to_excel(writer,'Survey')\n",
    "writer.save()"
   ]
  },
  {
   "cell_type": "code",
   "execution_count": null,
   "metadata": {
    "collapsed": true
   },
   "outputs": [],
   "source": []
  }
 ],
 "metadata": {
  "kernelspec": {
   "display_name": "Python 3",
   "language": "python",
   "name": "python3"
  },
  "language_info": {
   "codemirror_mode": {
    "name": "ipython",
    "version": 3
   },
   "file_extension": ".py",
   "mimetype": "text/x-python",
   "name": "python",
   "nbconvert_exporter": "python",
   "pygments_lexer": "ipython3",
   "version": "3.6.0"
  }
 },
 "nbformat": 4,
 "nbformat_minor": 2
}
